{
  "cells": [
    {
      "cell_type": "markdown",
      "metadata": {
        "id": "3HqK14JLSStR"
      },
      "source": [
        "<center><h1>CSCI 4140: Natural Language Processing</h1></center>\n",
        "<center><h1>CSCI/DASC 6040: Computational Analysis of Natural Languages</h1></center>\n",
        "\n",
        "<center><h6>Spring 2024</h6></center>\n",
        "<center><h6>Homework 5 - Building a GPT</h6></center>\n",
        "<center><h6>Due Sunday, March 24, at 11:59 PM</h6></center>\n",
        "\n",
        "<center>\n",
        "    Adapted from the <a href=\"https://colab.research.google.com/drive/1JMLa53HDuA-i7ZBmqV7ZnA3c_fvtXnx-?usp=sharing\">companion notebook</a> to the <a href=\"https://karpathy.ai/zero-to-hero.html\">Zero To Hero</a> video on GPT.<br/>\n",
        "    <font color='red'>Do not redistribute without the instructor’s written permission.</font>\n",
        "</center>"
      ]
    },
    {
      "cell_type": "markdown",
      "metadata": {
        "id": "pDHDy9jnSH7y"
      },
      "source": [
        "# 1. Select a dataset\n",
        "Andrej Karpathy used a subset of Shakespeare's works in his nanoGPT. **Pick a different author to train this GPT.** For example, [Project Gutenberg](https://www.gutenberg.org) is a library of over 70,000 free eBooks. To download [The Complete Works of William Shakespeare by William Shakespeare](https://www.gutenberg.org/ebooks/100) in text format, you can download the [Plain Text UTF-8](https://www.gutenberg.org/cache/epub/100/pg100.txt) file."
      ]
    },
    {
      "cell_type": "code",
      "execution_count": 20,
      "metadata": {
        "colab": {
          "base_uri": "https://localhost:8080/"
        },
        "id": "h5hjCcLDr2WC",
        "outputId": "dcad619c-1282-424c-e250-f71a2583d5df"
      },
      "outputs": [
        {
          "output_type": "stream",
          "name": "stdout",
          "text": [
            "--2024-03-21 18:41:53--  https://www.gutenberg.org/cache/epub/100/pg100.txt\n",
            "Resolving www.gutenberg.org (www.gutenberg.org)... 152.19.134.47, 2610:28:3090:3000:0:bad:cafe:47\n",
            "Connecting to www.gutenberg.org (www.gutenberg.org)|152.19.134.47|:443... connected.\n",
            "HTTP request sent, awaiting response... 200 OK\n",
            "Length: 5638549 (5.4M) [text/plain]\n",
            "Saving to: ‘pg100.txt.5’\n",
            "\n",
            "\rpg100.txt.5           0%[                    ]       0  --.-KB/s               \rpg100.txt.5         100%[===================>]   5.38M  34.7MB/s    in 0.2s    \n",
            "\n",
            "2024-03-21 18:41:54 (34.7 MB/s) - ‘pg100.txt.5’ saved [5638549/5638549]\n",
            "\n"
          ]
        }
      ],
      "source": [
        "# We always start with a dataset to train on. Let's download the tiny shakespeare dataset\n",
        "!wget https://www.gutenberg.org/cache/epub/100/pg100.txt\n",
        "# Replace \"https://raw.githubusercontent.com/karpathy/char-rnn/master/data/tinyshakespeare/input.txt\" with the URL for your author\n",
        "# Save the downloaded file as \"input.txt\""
      ]
    },
    {
      "cell_type": "code",
      "execution_count": 24,
      "metadata": {
        "id": "O6medjfRsLD9"
      },
      "outputs": [],
      "source": [
        "# read it in to inspect it\n",
        "with open('pg100.txt.5', 'r', encoding='utf-8') as f:\n",
        "    text = f.read()"
      ]
    },
    {
      "cell_type": "markdown",
      "metadata": {
        "id": "Ck1Xuf4WSH7z"
      },
      "source": [
        "## Get the length of this dataset (in characters)"
      ]
    },
    {
      "cell_type": "code",
      "execution_count": 25,
      "metadata": {
        "colab": {
          "base_uri": "https://localhost:8080/"
        },
        "id": "6xWI_VyAsN8F",
        "outputId": "54e0e119-9daf-44a4-ea22-9542993f982e"
      },
      "outputs": [
        {
          "output_type": "stream",
          "name": "stdout",
          "text": [
            "length of dataset in characters:  5378693\n"
          ]
        }
      ],
      "source": [
        "print(\"length of dataset in characters: \", len(text))"
      ]
    },
    {
      "cell_type": "code",
      "execution_count": 26,
      "metadata": {
        "colab": {
          "base_uri": "https://localhost:8080/"
        },
        "id": "2c5V0FvqseE0",
        "outputId": "e2ac77f1-0df8-4d6a-f9d3-f76e70c7e2d1"
      },
      "outputs": [
        {
          "output_type": "stream",
          "name": "stdout",
          "text": [
            "﻿The Project Gutenberg eBook of The Complete Works of William Shakespeare\n",
            "    \n",
            "This ebook is for the use of anyone anywhere in the United States and\n",
            "most other parts of the world at no cost and with almost no restrictions\n",
            "whatsoever. You may copy it, give it away or re-use it under the terms\n",
            "of the Project Gutenberg License included with this ebook or online\n",
            "at www.gutenberg.org. If you are not located in the United States,\n",
            "you will have to check the laws of the country where you are located\n",
            "before using this eBook.\n",
            "\n",
            "Title: The Complete Works of William Shakespeare\n",
            "\n",
            "\n",
            "Author: William Shakespeare\n",
            "\n",
            "Release date: January 1, 1994 [eBook #100]\n",
            "                Most recently updated: January 18, 2024\n",
            "\n",
            "Language: English\n",
            "\n",
            "\n",
            "\n",
            "*** START OF THE PROJECT GUTENBERG EBOOK THE COMPLETE WORKS OF WILLIAM SHAKESPEARE ***\n",
            "﻿The Complete Works of William Shakespeare\n",
            "\n",
            "by William Shakespeare\n",
            "\n",
            "\n",
            "\n",
            "\n",
            "                    Contents\n",
            "\n",
            "    THE SONNETS\n",
            "    ALL’S WELL THAT ENDS WELL\n",
            "    THE TRAGEDY OF ANTONY AND CLEOPATRA\n",
            "  \n"
          ]
        }
      ],
      "source": [
        "# let's look at the first 1000 characters\n",
        "print(text[:1000])"
      ]
    },
    {
      "cell_type": "markdown",
      "metadata": {
        "id": "Ewqt_4sUSH7z"
      },
      "source": [
        "## Get the vocabulary for this dataset, and its length"
      ]
    },
    {
      "cell_type": "code",
      "execution_count": 27,
      "metadata": {
        "colab": {
          "base_uri": "https://localhost:8080/"
        },
        "id": "0e-Rbyr8sfM8",
        "outputId": "a8104c8b-6fb7-4366-f88c-d791dd692b88"
      },
      "outputs": [
        {
          "output_type": "stream",
          "name": "stdout",
          "text": [
            "\t\n",
            " !#$%&'()*,-./0123456789:;?ABCDEFGHIJKLMNOPQRSTUVWXYZ[]_abcdefghijklmnopqrstuvwxyzÀÆÇÉàâæçèéêëîœ—‘’“”•…™﻿\n",
            "107\n"
          ]
        }
      ],
      "source": [
        "# here are all the unique characters that occur in this text\n",
        "chars = sorted(list(set(text)))\n",
        "vocab_size = len(chars)\n",
        "print(''.join(chars))\n",
        "print(vocab_size)"
      ]
    },
    {
      "cell_type": "markdown",
      "metadata": {
        "id": "XEUuTXQfSH7z"
      },
      "source": [
        "## Create the encoder (string -> list of integers) and decoder (list of integers -> string)"
      ]
    },
    {
      "cell_type": "code",
      "execution_count": 28,
      "metadata": {
        "colab": {
          "base_uri": "https://localhost:8080/"
        },
        "id": "Yw1LKNCgwjj1",
        "outputId": "36298e42-2558-4bb4-f2c6-e8b34fa68e2f"
      },
      "outputs": [
        {
          "output_type": "stream",
          "name": "stdout",
          "text": [
            "[65, 66, 66, 2, 77, 65, 62, 75, 62]\n",
            "hii there\n"
          ]
        }
      ],
      "source": [
        "# create a mapping from characters to integers\n",
        "stoi = { ch:i for i,ch in enumerate(chars) }\n",
        "itos = { i:ch for i,ch in enumerate(chars) }\n",
        "encode = lambda s: [stoi[c] for c in s] # encoder: take a string, output a list of integers\n",
        "decode = lambda l: ''.join([itos[i] for i in l]) # decoder: take a list of integers, output a string\n",
        "\n",
        "print(encode(\"hii there\"))\n",
        "print(decode(encode(\"hii there\")))"
      ]
    },
    {
      "cell_type": "markdown",
      "metadata": {
        "id": "YO0ZxM9ySH70"
      },
      "source": [
        "## Load encoded data into a tensor"
      ]
    },
    {
      "cell_type": "code",
      "execution_count": 29,
      "metadata": {
        "colab": {
          "base_uri": "https://localhost:8080/"
        },
        "id": "YJb0OXPwzvqg",
        "outputId": "6a9ce515-7df3-4b08-eb1e-a82c77ad4541"
      },
      "outputs": [
        {
          "output_type": "stream",
          "name": "stdout",
          "text": [
            "torch.Size([5378693]) torch.int64\n",
            "tensor([106,  48,  65,  62,   2,  44,  75,  72,  67,  62,  60,  77,   2,  35,\n",
            "         78,  77,  62,  71,  59,  62,  75,  64,   2,  62,  30,  72,  72,  68,\n",
            "          2,  72,  63,   2,  48,  65,  62,   2,  31,  72,  70,  73,  69,  62,\n",
            "         77,  62,   2,  51,  72,  75,  68,  76,   2,  72,  63,   2,  51,  66,\n",
            "         69,  69,  66,  58,  70,   2,  47,  65,  58,  68,  62,  76,  73,  62,\n",
            "         58,  75,  62,   1,   2,   2,   2,   2,   1,  48,  65,  66,  76,   2,\n",
            "         62,  59,  72,  72,  68,   2,  66,  76,   2,  63,  72,  75,   2,  77,\n",
            "         65,  62,   2,  78,  76,  62,   2,  72,  63,   2,  58,  71,  82,  72,\n",
            "         71,  62,   2,  58,  71,  82,  80,  65,  62,  75,  62,   2,  66,  71,\n",
            "          2,  77,  65,  62,   2,  49,  71,  66,  77,  62,  61,   2,  47,  77,\n",
            "         58,  77,  62,  76,   2,  58,  71,  61,   1,  70,  72,  76,  77,   2,\n",
            "         72,  77,  65,  62,  75,   2,  73,  58,  75,  77,  76,   2,  72,  63,\n",
            "          2,  77,  65,  62,   2,  80,  72,  75,  69,  61,   2,  58,  77,   2,\n",
            "         71,  72,   2,  60,  72,  76,  77,   2,  58,  71,  61,   2,  80,  66,\n",
            "         77,  65,   2,  58,  69,  70,  72,  76,  77,   2,  71,  72,   2,  75,\n",
            "         62,  76,  77,  75,  66,  60,  77,  66,  72,  71,  76,   1,  80,  65,\n",
            "         58,  77,  76,  72,  62,  79,  62,  75,  14,   2,  53,  72,  78,   2,\n",
            "         70,  58,  82,   2,  60,  72,  73,  82,   2,  66,  77,  12,   2,  64,\n",
            "         66,  79,  62,   2,  66,  77,   2,  58,  80,  58,  82,   2,  72,  75,\n",
            "          2,  75,  62,  13,  78,  76,  62,   2,  66,  77,   2,  78,  71,  61,\n",
            "         62,  75,   2,  77,  65,  62,   2,  77,  62,  75,  70,  76,   1,  72,\n",
            "         63,   2,  77,  65,  62,   2,  44,  75,  72,  67,  62,  60,  77,   2,\n",
            "         35,  78,  77,  62,  71,  59,  62,  75,  64,   2,  40,  66,  60,  62,\n",
            "         71,  76,  62,   2,  66,  71,  60,  69,  78,  61,  62,  61,   2,  80,\n",
            "         66,  77,  65,   2,  77,  65,  66,  76,   2,  62,  59,  72,  72,  68,\n",
            "          2,  72,  75,   2,  72,  71,  69,  66,  71,  62,   1,  58,  77,   2,\n",
            "         80,  80,  80,  14,  64,  78,  77,  62,  71,  59,  62,  75,  64,  14,\n",
            "         72,  75,  64,  14,   2,  37,  63,   2,  82,  72,  78,   2,  58,  75,\n",
            "         62,   2,  71,  72,  77,   2,  69,  72,  60,  58,  77,  62,  61,   2,\n",
            "         66,  71,   2,  77,  65,  62,   2,  49,  71,  66,  77,  62,  61,   2,\n",
            "         47,  77,  58,  77,  62,  76,  12,   1,  82,  72,  78,   2,  80,  66,\n",
            "         69,  69,   2,  65,  58,  79,  62,   2,  77,  72,   2,  60,  65,  62,\n",
            "         60,  68,   2,  77,  65,  62,   2,  69,  58,  80,  76,   2,  72,  63,\n",
            "          2,  77,  65,  62,   2,  60,  72,  78,  71,  77,  75,  82,   2,  80,\n",
            "         65,  62,  75,  62,   2,  82,  72,  78,   2,  58,  75,  62,   2,  69,\n",
            "         72,  60,  58,  77,  62,  61,   1,  59,  62,  63,  72,  75,  62,   2,\n",
            "         78,  76,  66,  71,  64,   2,  77,  65,  66,  76,   2,  62,  30,  72,\n",
            "         72,  68,  14,   1,   1,  48,  66,  77,  69,  62,  26,   2,  48,  65,\n",
            "         62,   2,  31,  72,  70,  73,  69,  62,  77,  62,   2,  51,  72,  75,\n",
            "         68,  76,   2,  72,  63,   2,  51,  66,  69,  69,  66,  58,  70,   2,\n",
            "         47,  65,  58,  68,  62,  76,  73,  62,  58,  75,  62,   1,   1,   1,\n",
            "         29,  78,  77,  65,  72,  75,  26,   2,  51,  66,  69,  69,  66,  58,\n",
            "         70,   2,  47,  65,  58,  68,  62,  76,  73,  62,  58,  75,  62,   1,\n",
            "          1,  46,  62,  69,  62,  58,  76,  62,   2,  61,  58,  77,  62,  26,\n",
            "          2,  38,  58,  71,  78,  58,  75,  82,   2,  17,  12,   2,  17,  25,\n",
            "         25,  20,   2,  55,  62,  30,  72,  72,  68,   2,   4,  17,  16,  16,\n",
            "         56,   1,   2,   2,   2,   2,   2,   2,   2,   2,   2,   2,   2,   2,\n",
            "          2,   2,   2,   2,  41,  72,  76,  77,   2,  75,  62,  60,  62,  71,\n",
            "         77,  69,  82,   2,  78,  73,  61,  58,  77,  62,  61,  26,   2,  38,\n",
            "         58,  71,  78,  58,  75,  82,   2,  17,  24,  12,   2,  18,  16,  18,\n",
            "         20,   1,   1,  40,  58,  71,  64,  78,  58,  64,  62,  26,   2,  33,\n",
            "         71,  64,  69,  66,  76,  65,   1,   1,   1,   1,  11,  11,  11,   2,\n",
            "         47,  48,  29,  46,  48,   2,  43,  34,   2,  48,  36,  33,   2,  44,\n",
            "         46,  43,  38,  33,  31,  48,   2,  35,  49,  48,  33,  42,  30,  33,\n",
            "         46,  35,   2,  33,  30,  43,  43,  39,   2,  48,  36,  33,   2,  31,\n",
            "         43,  41,  44,  40,  33,  48,  33,   2,  51,  43,  46,  39,  47,   2,\n",
            "         43,  34,   2,  51,  37,  40,  40,  37,  29,  41,   2,  47,  36,  29,\n",
            "         39,  33,  47,  44,  33,  29,  46,  33,   2,  11,  11,  11,   1, 106,\n",
            "         48,  65,  62,   2,  31,  72,  70,  73,  69,  62,  77,  62,   2,  51,\n",
            "         72,  75,  68,  76,   2,  72,  63,   2,  51,  66,  69,  69,  66,  58,\n",
            "         70,   2,  47,  65,  58,  68,  62,  76,  73,  62,  58,  75,  62,   1,\n",
            "          1,  59,  82,   2,  51,  66,  69,  69,  66,  58,  70,   2,  47,  65,\n",
            "         58,  68,  62,  76,  73,  62,  58,  75,  62,   1,   1,   1,   1,   1,\n",
            "          2,   2,   2,   2,   2,   2,   2,   2,   2,   2,   2,   2,   2,   2,\n",
            "          2,   2,   2,   2,   2,   2,  31,  72,  71,  77,  62,  71,  77,  76,\n",
            "          1,   1,   2,   2,   2,   2,  48,  36,  33,   2,  47,  43,  42,  42,\n",
            "         33,  48,  47,   1,   2,   2,   2,   2,  29,  40,  40, 100,  47,   2,\n",
            "         51,  33,  40,  40,   2,  48,  36,  29,  48,   2,  33,  42,  32,  47,\n",
            "          2,  51,  33,  40,  40,   1,   2,   2,   2,   2,  48,  36,  33,   2,\n",
            "         48,  46,  29,  35,  33,  32,  53,   2,  43,  34,   2,  29,  42,  48,\n",
            "         43,  42,  53,   2,  29,  42,  32,   2,  31,  40,  33,  43,  44,  29,\n",
            "         48,  46,  29,   1,   2,   2])\n"
          ]
        }
      ],
      "source": [
        "# let's now encode the entire text dataset and store it into a torch.Tensor\n",
        "import torch # we use PyTorch: https://pytorch.org\n",
        "data = torch.tensor(encode(text), dtype=torch.long)\n",
        "print(data.shape, data.dtype)\n",
        "print(data[:1000]) # the 1000 characters we looked at earier will to the GPT look like this"
      ]
    },
    {
      "cell_type": "markdown",
      "metadata": {
        "id": "_vs14i9bSH70"
      },
      "source": [
        "## Split the data into training and validation sets"
      ]
    },
    {
      "cell_type": "code",
      "execution_count": 30,
      "metadata": {
        "id": "f_WIXqxz0lU5"
      },
      "outputs": [],
      "source": [
        "# Let's now split up the data into train and validation sets\n",
        "n = int(0.9*len(data)) # first 90% will be train, rest val\n",
        "train_data = data[:n]\n",
        "val_data = data[n:]"
      ]
    },
    {
      "cell_type": "code",
      "execution_count": 31,
      "metadata": {
        "colab": {
          "base_uri": "https://localhost:8080/"
        },
        "id": "TD5Bj8Y6IAD4",
        "outputId": "612aa858-d33c-4741-b235-5e976163a0f8"
      },
      "outputs": [
        {
          "output_type": "execute_result",
          "data": {
            "text/plain": [
              "tensor([106,  48,  65,  62,   2,  44,  75,  72,  67])"
            ]
          },
          "metadata": {},
          "execution_count": 31
        }
      ],
      "source": [
        "block_size = 8\n",
        "train_data[:block_size+1]"
      ]
    },
    {
      "cell_type": "code",
      "execution_count": 32,
      "metadata": {
        "colab": {
          "base_uri": "https://localhost:8080/"
        },
        "id": "9HXDe8vGJCEn",
        "outputId": "476971ae-16a7-42d4-8818-172f2b24e072"
      },
      "outputs": [
        {
          "output_type": "stream",
          "name": "stdout",
          "text": [
            "when input is tensor([106]) the target: 48\n",
            "when input is tensor([106,  48]) the target: 65\n",
            "when input is tensor([106,  48,  65]) the target: 62\n",
            "when input is tensor([106,  48,  65,  62]) the target: 2\n",
            "when input is tensor([106,  48,  65,  62,   2]) the target: 44\n",
            "when input is tensor([106,  48,  65,  62,   2,  44]) the target: 75\n",
            "when input is tensor([106,  48,  65,  62,   2,  44,  75]) the target: 72\n",
            "when input is tensor([106,  48,  65,  62,   2,  44,  75,  72]) the target: 67\n"
          ]
        }
      ],
      "source": [
        "x = train_data[:block_size]\n",
        "y = train_data[1:block_size+1]\n",
        "for t in range(block_size):\n",
        "    context = x[:t+1]\n",
        "    target = y[t]\n",
        "    print(f\"when input is {context} the target: {target}\")"
      ]
    },
    {
      "cell_type": "code",
      "execution_count": 33,
      "metadata": {
        "colab": {
          "base_uri": "https://localhost:8080/"
        },
        "id": "Q3k1Czf7LuA9",
        "outputId": "8354fe2f-bc40-4839-f51b-5498ac7904eb"
      },
      "outputs": [
        {
          "output_type": "stream",
          "name": "stdout",
          "text": [
            "inputs:\n",
            "torch.Size([4, 8])\n",
            "tensor([[71, 77, 72, 71, 82,  2, 60, 58],\n",
            "        [77, 65, 82,  2, 79, 58, 69, 72],\n",
            "        [69, 72, 75, 61, 12,  2, 70, 82],\n",
            "        [ 2, 73, 75, 58, 82,  2, 82, 72]])\n",
            "targets:\n",
            "torch.Size([4, 8])\n",
            "tensor([[77, 72, 71, 82,  2, 60, 58, 71],\n",
            "        [65, 82,  2, 79, 58, 69, 72, 78],\n",
            "        [72, 75, 61, 12,  2, 70, 82,  2],\n",
            "        [73, 75, 58, 82,  2, 82, 72, 78]])\n",
            "----\n",
            "when input is [71] the target: 77\n",
            "when input is [71, 77] the target: 72\n",
            "when input is [71, 77, 72] the target: 71\n",
            "when input is [71, 77, 72, 71] the target: 82\n",
            "when input is [71, 77, 72, 71, 82] the target: 2\n",
            "when input is [71, 77, 72, 71, 82, 2] the target: 60\n",
            "when input is [71, 77, 72, 71, 82, 2, 60] the target: 58\n",
            "when input is [71, 77, 72, 71, 82, 2, 60, 58] the target: 71\n",
            "when input is [77] the target: 65\n",
            "when input is [77, 65] the target: 82\n",
            "when input is [77, 65, 82] the target: 2\n",
            "when input is [77, 65, 82, 2] the target: 79\n",
            "when input is [77, 65, 82, 2, 79] the target: 58\n",
            "when input is [77, 65, 82, 2, 79, 58] the target: 69\n",
            "when input is [77, 65, 82, 2, 79, 58, 69] the target: 72\n",
            "when input is [77, 65, 82, 2, 79, 58, 69, 72] the target: 78\n",
            "when input is [69] the target: 72\n",
            "when input is [69, 72] the target: 75\n",
            "when input is [69, 72, 75] the target: 61\n",
            "when input is [69, 72, 75, 61] the target: 12\n",
            "when input is [69, 72, 75, 61, 12] the target: 2\n",
            "when input is [69, 72, 75, 61, 12, 2] the target: 70\n",
            "when input is [69, 72, 75, 61, 12, 2, 70] the target: 82\n",
            "when input is [69, 72, 75, 61, 12, 2, 70, 82] the target: 2\n",
            "when input is [2] the target: 73\n",
            "when input is [2, 73] the target: 75\n",
            "when input is [2, 73, 75] the target: 58\n",
            "when input is [2, 73, 75, 58] the target: 82\n",
            "when input is [2, 73, 75, 58, 82] the target: 2\n",
            "when input is [2, 73, 75, 58, 82, 2] the target: 82\n",
            "when input is [2, 73, 75, 58, 82, 2, 82] the target: 72\n",
            "when input is [2, 73, 75, 58, 82, 2, 82, 72] the target: 78\n"
          ]
        }
      ],
      "source": [
        "torch.manual_seed(1337)\n",
        "batch_size = 4 # how many independent sequences will we process in parallel?\n",
        "block_size = 8 # what is the maximum context length for predictions?\n",
        "\n",
        "def get_batch(split):\n",
        "    # generate a small batch of data of inputs x and targets y\n",
        "    data = train_data if split == 'train' else val_data\n",
        "    ix = torch.randint(len(data) - block_size, (batch_size,))\n",
        "    x = torch.stack([data[i:i+block_size] for i in ix])\n",
        "    y = torch.stack([data[i+1:i+block_size+1] for i in ix])\n",
        "    return x, y\n",
        "\n",
        "xb, yb = get_batch('train')\n",
        "print('inputs:')\n",
        "print(xb.shape)\n",
        "print(xb)\n",
        "print('targets:')\n",
        "print(yb.shape)\n",
        "print(yb)\n",
        "\n",
        "print('----')\n",
        "\n",
        "for b in range(batch_size): # batch dimension\n",
        "    for t in range(block_size): # time dimension\n",
        "        context = xb[b, :t+1]\n",
        "        target = yb[b,t]\n",
        "        print(f\"when input is {context.tolist()} the target: {target}\")"
      ]
    },
    {
      "cell_type": "code",
      "execution_count": 34,
      "metadata": {
        "colab": {
          "base_uri": "https://localhost:8080/"
        },
        "id": "qpyyAeIzQjlO",
        "outputId": "6a59afee-10b4-40ef-9272-f0725e74b6a7"
      },
      "outputs": [
        {
          "output_type": "stream",
          "name": "stdout",
          "text": [
            "tensor([[71, 77, 72, 71, 82,  2, 60, 58],\n",
            "        [77, 65, 82,  2, 79, 58, 69, 72],\n",
            "        [69, 72, 75, 61, 12,  2, 70, 82],\n",
            "        [ 2, 73, 75, 58, 82,  2, 82, 72]])\n"
          ]
        }
      ],
      "source": [
        "print(xb) # our input to the transformer"
      ]
    },
    {
      "cell_type": "markdown",
      "metadata": {
        "id": "VQC1hw9SSH71"
      },
      "source": [
        "# 2. Bigram language model"
      ]
    },
    {
      "cell_type": "code",
      "execution_count": 35,
      "metadata": {
        "colab": {
          "base_uri": "https://localhost:8080/"
        },
        "id": "nql_1ER53oCf",
        "outputId": "df461c63-4260-4e22-c943-595e3fb9020e"
      },
      "outputs": [
        {
          "output_type": "stream",
          "name": "stdout",
          "text": [
            "torch.Size([32, 107])\n",
            "tensor(5.4946, grad_fn=<NllLossBackward0>)\n",
            "\të !(xœ“I$B”è'LOoyNx_eDY:a$%\tBFx3)PQ’*âÇxwëJÉ'odwcYDe…àOAvBÆJ,‘Hë™lB57s0j” ( âeDeH‘TF—am_jEK;El;h'$…o\n"
          ]
        }
      ],
      "source": [
        "import torch\n",
        "import torch.nn as nn\n",
        "from torch.nn import functional as F\n",
        "torch.manual_seed(1337)\n",
        "\n",
        "class BigramLanguageModel(nn.Module):\n",
        "\n",
        "    def __init__(self, vocab_size):\n",
        "        super().__init__()\n",
        "        # each token directly reads off the logits for the next token from a lookup table\n",
        "        self.token_embedding_table = nn.Embedding(vocab_size, vocab_size)\n",
        "\n",
        "    def forward(self, idx, targets=None):\n",
        "\n",
        "        # idx and targets are both (B,T) tensor of integers\n",
        "        logits = self.token_embedding_table(idx) # (B,T,C)\n",
        "\n",
        "        if targets is None:\n",
        "            loss = None\n",
        "        else:\n",
        "            B, T, C = logits.shape\n",
        "            logits = logits.view(B*T, C)\n",
        "            targets = targets.view(B*T)\n",
        "            loss = F.cross_entropy(logits, targets)\n",
        "\n",
        "        return logits, loss\n",
        "\n",
        "    def generate(self, idx, max_new_tokens):\n",
        "        # idx is (B, T) array of indices in the current context\n",
        "        for _ in range(max_new_tokens):\n",
        "            # get the predictions\n",
        "            logits, loss = self(idx)\n",
        "            # focus only on the last time step\n",
        "            logits = logits[:, -1, :] # becomes (B, C)\n",
        "            # apply softmax to get probabilities\n",
        "            probs = F.softmax(logits, dim=-1) # (B, C)\n",
        "            # sample from the distribution\n",
        "            idx_next = torch.multinomial(probs, num_samples=1) # (B, 1)\n",
        "            # append sampled index to the running sequence\n",
        "            idx = torch.cat((idx, idx_next), dim=1) # (B, T+1)\n",
        "        return idx\n",
        "\n",
        "m = BigramLanguageModel(vocab_size)\n",
        "logits, loss = m(xb, yb)\n",
        "print(logits.shape)\n",
        "print(loss)\n",
        "\n",
        "print(decode(m.generate(idx = torch.zeros((1, 1), dtype=torch.long), max_new_tokens=100)[0].tolist()))"
      ]
    },
    {
      "cell_type": "markdown",
      "metadata": {
        "id": "g9IwH_3OSH71"
      },
      "source": [
        "## Use the AdamW optimizer"
      ]
    },
    {
      "cell_type": "code",
      "execution_count": 41,
      "metadata": {
        "id": "eTyJ8qAaDdiF"
      },
      "outputs": [],
      "source": [
        "# create a PyTorch optimizer\n",
        "optimizer = torch.optim.AdamW(m.parameters(), lr=1e-3)"
      ]
    },
    {
      "cell_type": "markdown",
      "metadata": {
        "id": "G1puaDp1SH71"
      },
      "source": [
        "## Questions\n",
        "1. (10 points) How many steps did you train the model for?\n",
        "2. (15 points) How does the value of the loss function change with the number of steps? Provide a few examples, such as, after 100 steps the loss was 4.656, and after 1,000 steps the loss was 4.231."
      ]
    },
    {
      "cell_type": "markdown",
      "source": [
        "1. General steps until this point: 8(Select a dataset, get length of dataset,get vocab,create encoder, load encoded data, split data into training and validation sets, bigram language model, then adamw optimizer). Coding steps: 14 cells were run until this point\n",
        "2. as the steps increase the loss decreases. At 100 the loss is around 5, after 1000 the loss is 3.89, after 10000 the loss is 2.45"
      ],
      "metadata": {
        "id": "JLxkYNitTQof"
      }
    },
    {
      "cell_type": "code",
      "execution_count": 42,
      "metadata": {
        "colab": {
          "base_uri": "https://localhost:8080/"
        },
        "id": "Hs4kI8YdEkQj",
        "outputId": "6ea47601-047b-4a2e-f86a-4ceb7728afb4"
      },
      "outputs": [
        {
          "output_type": "stream",
          "name": "stdout",
          "text": [
            "2.410722017288208\n"
          ]
        }
      ],
      "source": [
        "batch_size = 32\n",
        "for steps in range(10000): # increase number of steps for good results...\n",
        "\n",
        "    # sample a batch of data\n",
        "    xb, yb = get_batch('train')\n",
        "\n",
        "    # evaluate the loss\n",
        "    logits, loss = m(xb, yb)\n",
        "    optimizer.zero_grad(set_to_none=True)\n",
        "    loss.backward()\n",
        "    optimizer.step()\n",
        "\n",
        "print(loss.item())"
      ]
    },
    {
      "cell_type": "code",
      "execution_count": 43,
      "metadata": {
        "colab": {
          "base_uri": "https://localhost:8080/"
        },
        "id": "EcVIDWAZEtjN",
        "outputId": "90297ae2-c36d-400a-85d4-1b476e6fdc62"
      },
      "outputs": [
        {
          "output_type": "stream",
          "name": "stdout",
          "text": [
            "\taweact, ing, he sofind’d ng. ame mantusthay whe,\n",
            "Ancand; t nghere, myom\n",
            "\n",
            "Peet, litan here mug t tode? owhindonowie h, o’wave d ssbe miom HI, batwncheal tin, thay wieatrad misid to himot wome m.\n",
            "Whed h fofe s ‘ANo Hin, ouf.\n",
            "SCaind me ar knevebaghed che m w belo\n",
            "\n",
            "WBy de’sess foo LEn-v’trt trchan ff Kn, rede melomandllllsthe mpust Gopit our meng r  w thanghy ncef.\n",
            "Of bo, be f, warve we aril hicounsiend isthewee s mo Se n, oupeave\n",
            "S.\n",
            "\n",
            "AR ICBESot plvenesee O.\n",
            "F.\n",
            "Tourc dr pofousherno\n",
            "\n",
            "\n",
            "Ath atenan_RUSi\n"
          ]
        }
      ],
      "source": [
        "print(decode(m.generate(idx = torch.zeros((1, 1), dtype=torch.long), max_new_tokens=500)[0].tolist()))"
      ]
    },
    {
      "cell_type": "markdown",
      "metadata": {
        "id": "XinV8nmAnmKN"
      },
      "source": [
        "# Optional: The mathematical trick in self-attention"
      ]
    },
    {
      "cell_type": "code",
      "execution_count": 44,
      "metadata": {
        "colab": {
          "base_uri": "https://localhost:8080/"
        },
        "id": "tukiH-NbRBhA",
        "outputId": "e90067e4-84d0-4c33-bea9-e7f18ef8a364"
      },
      "outputs": [
        {
          "output_type": "stream",
          "name": "stdout",
          "text": [
            "a=\n",
            "tensor([[1.0000, 0.0000, 0.0000],\n",
            "        [0.5000, 0.5000, 0.0000],\n",
            "        [0.3333, 0.3333, 0.3333]])\n",
            "--\n",
            "b=\n",
            "tensor([[2., 7.],\n",
            "        [6., 4.],\n",
            "        [6., 5.]])\n",
            "--\n",
            "c=\n",
            "tensor([[2.0000, 7.0000],\n",
            "        [4.0000, 5.5000],\n",
            "        [4.6667, 5.3333]])\n"
          ]
        }
      ],
      "source": [
        "# toy example illustrating how matrix multiplication can be used for a \"weighted aggregation\"\n",
        "torch.manual_seed(42)\n",
        "a = torch.tril(torch.ones(3, 3))\n",
        "a = a / torch.sum(a, 1, keepdim=True)\n",
        "b = torch.randint(0,10,(3,2)).float()\n",
        "c = a @ b\n",
        "print('a=')\n",
        "print(a)\n",
        "print('--')\n",
        "print('b=')\n",
        "print(b)\n",
        "print('--')\n",
        "print('c=')\n",
        "print(c)"
      ]
    },
    {
      "cell_type": "code",
      "execution_count": 45,
      "metadata": {
        "colab": {
          "base_uri": "https://localhost:8080/"
        },
        "id": "Hs_E24uRE8kr",
        "outputId": "35497572-9b0b-46e9-c372-1197762ef376"
      },
      "outputs": [
        {
          "output_type": "execute_result",
          "data": {
            "text/plain": [
              "torch.Size([4, 8, 2])"
            ]
          },
          "metadata": {},
          "execution_count": 45
        }
      ],
      "source": [
        "# consider the following toy example:\n",
        "\n",
        "torch.manual_seed(1337)\n",
        "B,T,C = 4,8,2 # batch, time, channels\n",
        "x = torch.randn(B,T,C)\n",
        "x.shape"
      ]
    },
    {
      "cell_type": "code",
      "execution_count": 46,
      "metadata": {
        "id": "86NuXX0fn7ps"
      },
      "outputs": [],
      "source": [
        "# We want x[b,t] = mean_{i<=t} x[b,i]\n",
        "xbow = torch.zeros((B,T,C))\n",
        "for b in range(B):\n",
        "    for t in range(T):\n",
        "        xprev = x[b,:t+1] # (t,C)\n",
        "        xbow[b,t] = torch.mean(xprev, 0)\n"
      ]
    },
    {
      "cell_type": "code",
      "execution_count": 47,
      "metadata": {
        "colab": {
          "base_uri": "https://localhost:8080/"
        },
        "id": "yhdOAd6-wXkZ",
        "outputId": "2db6d701-bc1d-4a11-e112-13e74a05c618"
      },
      "outputs": [
        {
          "output_type": "execute_result",
          "data": {
            "text/plain": [
              "False"
            ]
          },
          "metadata": {},
          "execution_count": 47
        }
      ],
      "source": [
        "# version 2: using matrix multiply for a weighted aggregation\n",
        "wei = torch.tril(torch.ones(T, T))\n",
        "wei = wei / wei.sum(1, keepdim=True)\n",
        "xbow2 = wei @ x # (B, T, T) @ (B, T, C) ----> (B, T, C)\n",
        "torch.allclose(xbow, xbow2)"
      ]
    },
    {
      "cell_type": "code",
      "execution_count": 48,
      "metadata": {
        "colab": {
          "base_uri": "https://localhost:8080/"
        },
        "id": "wOURrfG-ysoL",
        "outputId": "6eb1701c-3251-417d-e06b-b9ad09a2321c"
      },
      "outputs": [
        {
          "output_type": "execute_result",
          "data": {
            "text/plain": [
              "False"
            ]
          },
          "metadata": {},
          "execution_count": 48
        }
      ],
      "source": [
        "# version 3: use Softmax\n",
        "tril = torch.tril(torch.ones(T, T))\n",
        "wei = torch.zeros((T,T))\n",
        "wei = wei.masked_fill(tril == 0, float('-inf'))\n",
        "wei = F.softmax(wei, dim=-1)\n",
        "xbow3 = wei @ x\n",
        "torch.allclose(xbow, xbow3)\n"
      ]
    },
    {
      "cell_type": "code",
      "execution_count": 49,
      "metadata": {
        "colab": {
          "base_uri": "https://localhost:8080/"
        },
        "id": "EDarxEWIRMKq",
        "outputId": "9f6174ac-e435-4604-eda8-2f1d6fc3c3f5"
      },
      "outputs": [
        {
          "output_type": "execute_result",
          "data": {
            "text/plain": [
              "torch.Size([4, 8, 16])"
            ]
          },
          "metadata": {},
          "execution_count": 49
        }
      ],
      "source": [
        "# version 4: self-attention!\n",
        "torch.manual_seed(1337)\n",
        "B,T,C = 4,8,32 # batch, time, channels\n",
        "x = torch.randn(B,T,C)\n",
        "\n",
        "# let's see a single Head perform self-attention\n",
        "head_size = 16\n",
        "key = nn.Linear(C, head_size, bias=False)\n",
        "query = nn.Linear(C, head_size, bias=False)\n",
        "value = nn.Linear(C, head_size, bias=False)\n",
        "k = key(x)   # (B, T, 16)\n",
        "q = query(x) # (B, T, 16)\n",
        "wei =  q @ k.transpose(-2, -1) # (B, T, 16) @ (B, 16, T) ---> (B, T, T)\n",
        "\n",
        "tril = torch.tril(torch.ones(T, T))\n",
        "#wei = torch.zeros((T,T))\n",
        "wei = wei.masked_fill(tril == 0, float('-inf'))\n",
        "wei = F.softmax(wei, dim=-1)\n",
        "\n",
        "v = value(x)\n",
        "out = wei @ v\n",
        "#out = wei @ x\n",
        "\n",
        "out.shape"
      ]
    },
    {
      "cell_type": "code",
      "execution_count": 50,
      "metadata": {
        "colab": {
          "base_uri": "https://localhost:8080/"
        },
        "id": "vT1hdtzXCjgL",
        "outputId": "0443d57a-b618-4546-ce70-1d7dd6b2190c"
      },
      "outputs": [
        {
          "output_type": "execute_result",
          "data": {
            "text/plain": [
              "tensor([[1.0000, 0.0000, 0.0000, 0.0000, 0.0000, 0.0000, 0.0000, 0.0000],\n",
              "        [0.1574, 0.8426, 0.0000, 0.0000, 0.0000, 0.0000, 0.0000, 0.0000],\n",
              "        [0.2088, 0.1646, 0.6266, 0.0000, 0.0000, 0.0000, 0.0000, 0.0000],\n",
              "        [0.5792, 0.1187, 0.1889, 0.1131, 0.0000, 0.0000, 0.0000, 0.0000],\n",
              "        [0.0294, 0.1052, 0.0469, 0.0276, 0.7909, 0.0000, 0.0000, 0.0000],\n",
              "        [0.0176, 0.2689, 0.0215, 0.0089, 0.6812, 0.0019, 0.0000, 0.0000],\n",
              "        [0.1691, 0.4066, 0.0438, 0.0416, 0.1048, 0.2012, 0.0329, 0.0000],\n",
              "        [0.0210, 0.0843, 0.0555, 0.2297, 0.0573, 0.0709, 0.2423, 0.2391]],\n",
              "       grad_fn=<SelectBackward0>)"
            ]
          },
          "metadata": {},
          "execution_count": 50
        }
      ],
      "source": [
        "wei[0]"
      ]
    },
    {
      "cell_type": "markdown",
      "metadata": {
        "id": "M5CvobiQ0pLr"
      },
      "source": [
        "Notes:\n",
        "- Attention is a **communication mechanism**. Can be seen as nodes in a directed graph looking at each other and aggregating information with a weighted sum from all nodes that point to them, with data-dependent weights.\n",
        "- There is no notion of space. Attention simply acts over a set of vectors. This is why we need to positionally encode tokens.\n",
        "- Each example across batch dimension is of course processed completely independently and never \"talk\" to each other\n",
        "- In an \"encoder\" attention block just delete the single line that does masking with `tril`, allowing all tokens to communicate. This block here is called a \"decoder\" attention block because it has triangular masking, and is usually used in autoregressive settings, like language modeling.\n",
        "- \"self-attention\" just means that the keys and values are produced from the same source as queries. In \"cross-attention\", the queries still get produced from x, but the keys and values come from some other, external source (e.g. an encoder module)\n",
        "- \"Scaled\" attention additional divides `wei` by 1/sqrt(head_size). This makes it so when input Q,K are unit variance, wei will be unit variance too and Softmax will stay diffuse and not saturate too much. Illustration below"
      ]
    },
    {
      "cell_type": "code",
      "execution_count": 51,
      "metadata": {
        "id": "4SNbLq5z3oBw"
      },
      "outputs": [],
      "source": [
        "k = torch.randn(B,T,head_size)\n",
        "q = torch.randn(B,T,head_size)\n",
        "wei = q @ k.transpose(-2, -1) * head_size**-0.5"
      ]
    },
    {
      "cell_type": "code",
      "execution_count": 52,
      "metadata": {
        "colab": {
          "base_uri": "https://localhost:8080/"
        },
        "id": "Nl6I9n9IRTSo",
        "outputId": "af105a4d-7313-4b40-97d7-9a59c3ad7239"
      },
      "outputs": [
        {
          "output_type": "execute_result",
          "data": {
            "text/plain": [
              "tensor(1.0449)"
            ]
          },
          "metadata": {},
          "execution_count": 52
        }
      ],
      "source": [
        "k.var()"
      ]
    },
    {
      "cell_type": "code",
      "execution_count": 53,
      "metadata": {
        "colab": {
          "base_uri": "https://localhost:8080/"
        },
        "id": "T1tQx7oeRvtc",
        "outputId": "9d770c47-310c-4505-e42a-5aa5fcb0c02e"
      },
      "outputs": [
        {
          "output_type": "execute_result",
          "data": {
            "text/plain": [
              "tensor(1.0700)"
            ]
          },
          "metadata": {},
          "execution_count": 53
        }
      ],
      "source": [
        "q.var()"
      ]
    },
    {
      "cell_type": "code",
      "execution_count": 54,
      "metadata": {
        "colab": {
          "base_uri": "https://localhost:8080/"
        },
        "id": "MLb_odHU3iKM",
        "outputId": "b3370961-9ca6-44fa-8a86-bd961eb3702d"
      },
      "outputs": [
        {
          "output_type": "execute_result",
          "data": {
            "text/plain": [
              "tensor(1.0918)"
            ]
          },
          "metadata": {},
          "execution_count": 54
        }
      ],
      "source": [
        "wei.var()"
      ]
    },
    {
      "cell_type": "code",
      "execution_count": 55,
      "metadata": {
        "colab": {
          "base_uri": "https://localhost:8080/"
        },
        "id": "JB82yzt44REI",
        "outputId": "78a2684a-de76-40ca-c5a1-5c7a3a1681d7"
      },
      "outputs": [
        {
          "output_type": "execute_result",
          "data": {
            "text/plain": [
              "tensor([0.1925, 0.1426, 0.2351, 0.1426, 0.2872])"
            ]
          },
          "metadata": {},
          "execution_count": 55
        }
      ],
      "source": [
        "torch.softmax(torch.tensor([0.1, -0.2, 0.3, -0.2, 0.5]), dim=-1)"
      ]
    },
    {
      "cell_type": "code",
      "execution_count": 56,
      "metadata": {
        "colab": {
          "base_uri": "https://localhost:8080/"
        },
        "id": "Mpt8569BB9_f",
        "outputId": "0946368b-5378-40d2-b89e-485c083b6f95"
      },
      "outputs": [
        {
          "output_type": "execute_result",
          "data": {
            "text/plain": [
              "tensor([0.0326, 0.0030, 0.1615, 0.0030, 0.8000])"
            ]
          },
          "metadata": {},
          "execution_count": 56
        }
      ],
      "source": [
        "torch.softmax(torch.tensor([0.1, -0.2, 0.3, -0.2, 0.5])*8, dim=-1) # gets too peaky, converges to one-hot"
      ]
    },
    {
      "cell_type": "code",
      "execution_count": 57,
      "metadata": {
        "colab": {
          "base_uri": "https://localhost:8080/"
        },
        "id": "2Num7sX9CKOH",
        "outputId": "3a698ae0-25cf-4a4b-d102-e12da020bc8a"
      },
      "outputs": [
        {
          "output_type": "execute_result",
          "data": {
            "text/plain": [
              "torch.Size([32, 100])"
            ]
          },
          "metadata": {},
          "execution_count": 57
        }
      ],
      "source": [
        "class LayerNorm1d: # (used to be BatchNorm1d)\n",
        "\n",
        "  def __init__(self, dim, eps=1e-5, momentum=0.1):\n",
        "    self.eps = eps\n",
        "    self.gamma = torch.ones(dim)\n",
        "    self.beta = torch.zeros(dim)\n",
        "\n",
        "  def __call__(self, x):\n",
        "    # calculate the forward pass\n",
        "    xmean = x.mean(1, keepdim=True) # batch mean\n",
        "    xvar = x.var(1, keepdim=True) # batch variance\n",
        "    xhat = (x - xmean) / torch.sqrt(xvar + self.eps) # normalize to unit variance\n",
        "    self.out = self.gamma * xhat + self.beta\n",
        "    return self.out\n",
        "\n",
        "  def parameters(self):\n",
        "    return [self.gamma, self.beta]\n",
        "\n",
        "torch.manual_seed(1337)\n",
        "module = LayerNorm1d(100)\n",
        "x = torch.randn(32, 100) # batch size 32 of 100-dimensional vectors\n",
        "x = module(x)\n",
        "x.shape"
      ]
    },
    {
      "cell_type": "code",
      "execution_count": 58,
      "metadata": {
        "colab": {
          "base_uri": "https://localhost:8080/"
        },
        "id": "633T2cmnW1uk",
        "outputId": "ee85e40d-79f7-4cfe-cabe-5908972a961b"
      },
      "outputs": [
        {
          "output_type": "execute_result",
          "data": {
            "text/plain": [
              "(tensor(0.1469), tensor(0.8803))"
            ]
          },
          "metadata": {},
          "execution_count": 58
        }
      ],
      "source": [
        "x[:,0].mean(), x[:,0].std() # mean,std of one feature across all batch inputs"
      ]
    },
    {
      "cell_type": "code",
      "execution_count": 59,
      "metadata": {
        "colab": {
          "base_uri": "https://localhost:8080/"
        },
        "id": "LN9cK9BoXCYb",
        "outputId": "9b370825-c632-4183-ee06-a8539cf0a701"
      },
      "outputs": [
        {
          "output_type": "execute_result",
          "data": {
            "text/plain": [
              "(tensor(-9.5367e-09), tensor(1.0000))"
            ]
          },
          "metadata": {},
          "execution_count": 59
        }
      ],
      "source": [
        "x[0,:].mean(), x[0,:].std() # mean,std of a single input from the batch, of its features"
      ]
    },
    {
      "cell_type": "code",
      "execution_count": null,
      "metadata": {
        "id": "dRJH6wM_XFfU"
      },
      "outputs": [],
      "source": [
        "# French to English translation example:\n",
        "\n",
        "# <--------- ENCODE ------------------><--------------- DECODE ----------------->\n",
        "# les réseaux de neurones sont géniaux! <START> neural networks are awesome!<END>\n",
        "\n"
      ]
    },
    {
      "cell_type": "markdown",
      "metadata": {
        "id": "ZcvKeBXoZFOY"
      },
      "source": [
        "# 3. Encoder language model\n",
        "To run this section of the notebook, you need a GPU (you can run it on CPU but it will take a much longer). You can run it in [Google Colab](https://colab.research.google.com/), and from the menu select **Runtime/Change runtime type** and select **T4 GPU** for **Hardware accelerator**. Then click **Save**."
      ]
    },
    {
      "cell_type": "code",
      "execution_count": null,
      "metadata": {
        "colab": {
          "base_uri": "https://localhost:8080/"
        },
        "id": "hoelkOrFY8bN",
        "outputId": "d3c75a4f-d397-4836-c974-4d91adbae15c"
      },
      "outputs": [
        {
          "output_type": "stream",
          "name": "stdout",
          "text": [
            "0.209729 M parameters\n",
            "step 0: train loss 4.4116, val loss 4.4022\n",
            "step 100: train loss 3.3430, val loss 3.3801\n",
            "step 200: train loss 3.2708, val loss 3.2961\n",
            "step 300: train loss 3.2503, val loss 3.2806\n",
            "step 400: train loss 3.2896, val loss 3.3235\n",
            "step 500: train loss 3.2229, val loss 3.2383\n",
            "step 600: train loss 3.2251, val loss 3.2533\n",
            "step 700: train loss 3.2566, val loss 3.2902\n",
            "step 800: train loss 3.2901, val loss 3.3268\n",
            "step 900: train loss 3.3005, val loss 3.3322\n",
            "step 1000: train loss 3.2894, val loss 3.3212\n",
            "step 1100: train loss 3.2739, val loss 3.3163\n",
            "step 1200: train loss 3.2855, val loss 3.3188\n",
            "step 1300: train loss 3.3203, val loss 3.3482\n",
            "step 1400: train loss 3.2835, val loss 3.3053\n",
            "step 1500: train loss 3.2767, val loss 3.3072\n",
            "step 1600: train loss 3.2811, val loss 3.3281\n",
            "step 1700: train loss 3.2823, val loss 3.3210\n",
            "step 1800: train loss 3.2458, val loss 3.2726\n",
            "step 1900: train loss 3.2538, val loss 3.2715\n",
            "step 2000: train loss 3.2682, val loss 3.3003\n",
            "step 2100: train loss 3.2839, val loss 3.3094\n",
            "step 2200: train loss 3.3166, val loss 3.3457\n",
            "step 2300: train loss 3.3018, val loss 3.3295\n",
            "step 2400: train loss 3.2746, val loss 3.3125\n",
            "step 2500: train loss 3.2627, val loss 3.2889\n",
            "step 2600: train loss 3.2749, val loss 3.3153\n",
            "step 2700: train loss 3.2452, val loss 3.2499\n",
            "step 2800: train loss 3.2449, val loss 3.2880\n",
            "step 2900: train loss 3.2670, val loss 3.2940\n",
            "step 3000: train loss 3.2452, val loss 3.2696\n",
            "step 3100: train loss 3.2539, val loss 3.2840\n",
            "step 3200: train loss 3.2742, val loss 3.2923\n",
            "step 3300: train loss 3.2692, val loss 3.2930\n",
            "step 3400: train loss 3.2661, val loss 3.3079\n",
            "step 3500: train loss 3.2647, val loss 3.2929\n",
            "step 3600: train loss 3.2405, val loss 3.2707\n",
            "step 3700: train loss 3.2024, val loss 3.2295\n"
          ]
        }
      ],
      "source": [
        "import torch\n",
        "import torch.nn as nn\n",
        "from torch.nn import functional as F\n",
        "\n",
        "# hyperparameters\n",
        "batch_size = 16 # how many independent sequences will we process in parallel?\n",
        "block_size = 32 # what is the maximum context length for predictions?\n",
        "max_iters = 5000\n",
        "eval_interval = 100\n",
        "learning_rate = 1e-1\n",
        "device = 'cuda' if torch.cuda.is_available() else 'cpu'\n",
        "eval_iters = 200\n",
        "n_embd = 64\n",
        "n_head = 4\n",
        "n_layer = 4\n",
        "dropout = 0.0\n",
        "# ------------\n",
        "\n",
        "torch.manual_seed(1337)\n",
        "\n",
        "# wget https://raw.githubusercontent.com/karpathy/char-rnn/master/data/tinyshakespeare/input.txt\n",
        "# You will have to change the path to the 'input.txt' file (e.g., /content/input.txt)\n",
        "with open('input.txt', 'r', encoding='utf-8') as f:\n",
        "    text = f.read()\n",
        "\n",
        "# here are all the unique characters that occur in this text\n",
        "chars = sorted(list(set(text)))\n",
        "vocab_size = len(chars)\n",
        "# create a mapping from characters to integers\n",
        "stoi = { ch:i for i,ch in enumerate(chars) }\n",
        "itos = { i:ch for i,ch in enumerate(chars) }\n",
        "encode = lambda s: [stoi[c] for c in s] # encoder: take a string, output a list of integers\n",
        "decode = lambda l: ''.join([itos[i] for i in l]) # decoder: take a list of integers, output a string\n",
        "\n",
        "# Train and test splits\n",
        "data = torch.tensor(encode(text), dtype=torch.long)\n",
        "n = int(0.9*len(data)) # first 90% will be train, rest val\n",
        "train_data = data[:n]\n",
        "val_data = data[n:]\n",
        "\n",
        "# data loading\n",
        "def get_batch(split):\n",
        "    # generate a small batch of data of inputs x and targets y\n",
        "    data = train_data if split == 'train' else val_data\n",
        "    ix = torch.randint(len(data) - block_size, (batch_size,))\n",
        "    x = torch.stack([data[i:i+block_size] for i in ix])\n",
        "    y = torch.stack([data[i+1:i+block_size+1] for i in ix])\n",
        "    x, y = x.to(device), y.to(device)\n",
        "    return x, y\n",
        "\n",
        "@torch.no_grad()\n",
        "def estimate_loss():\n",
        "    out = {}\n",
        "    model.eval()\n",
        "    for split in ['train', 'val']:\n",
        "        losses = torch.zeros(eval_iters)\n",
        "        for k in range(eval_iters):\n",
        "            X, Y = get_batch(split)\n",
        "            logits, loss = model(X, Y)\n",
        "            losses[k] = loss.item()\n",
        "        out[split] = losses.mean()\n",
        "    model.train()\n",
        "    return out\n",
        "\n",
        "class Head(nn.Module):\n",
        "    \"\"\" one head of self-attention \"\"\"\n",
        "\n",
        "    def __init__(self, head_size):\n",
        "        super().__init__()\n",
        "        self.key = nn.Linear(n_embd, head_size, bias=False)\n",
        "        self.query = nn.Linear(n_embd, head_size, bias=False)\n",
        "        self.value = nn.Linear(n_embd, head_size, bias=False)\n",
        "        self.register_buffer('tril', torch.tril(torch.ones(block_size, block_size)))\n",
        "\n",
        "        self.dropout = nn.Dropout(dropout)\n",
        "\n",
        "    def forward(self, x):\n",
        "        B,T,C = x.shape\n",
        "        k = self.key(x)   # (B,T,C)\n",
        "        q = self.query(x) # (B,T,C)\n",
        "        # compute attention scores (\"affinities\")\n",
        "        wei = q @ k.transpose(-2,-1) * C**-0.5 # (B, T, C) @ (B, C, T) -> (B, T, T)\n",
        "        wei = wei.masked_fill(self.tril[:T, :T] == 0, float('-inf')) # (B, T, T)\n",
        "        wei = F.softmax(wei, dim=-1) # (B, T, T)\n",
        "        wei = self.dropout(wei)\n",
        "        # perform the weighted aggregation of the values\n",
        "        v = self.value(x) # (B,T,C)\n",
        "        out = wei @ v # (B, T, T) @ (B, T, C) -> (B, T, C)\n",
        "        return out\n",
        "\n",
        "class MultiHeadAttention(nn.Module):\n",
        "    \"\"\" multiple heads of self-attention in parallel \"\"\"\n",
        "\n",
        "    def __init__(self, num_heads, head_size):\n",
        "        super().__init__()\n",
        "        self.heads = nn.ModuleList([Head(head_size) for _ in range(num_heads)])\n",
        "        self.proj = nn.Linear(n_embd, n_embd)\n",
        "        self.dropout = nn.Dropout(dropout)\n",
        "\n",
        "    def forward(self, x):\n",
        "        out = torch.cat([h(x) for h in self.heads], dim=-1)\n",
        "        out = self.dropout(self.proj(out))\n",
        "        return out\n",
        "\n",
        "class FeedFoward(nn.Module):\n",
        "    \"\"\" a simple linear layer followed by a non-linearity \"\"\"\n",
        "\n",
        "    def __init__(self, n_embd):\n",
        "        super().__init__()\n",
        "        self.net = nn.Sequential(\n",
        "            nn.Linear(n_embd, 4 * n_embd),\n",
        "            nn.ReLU(),\n",
        "            nn.Linear(4 * n_embd, n_embd),\n",
        "            nn.Dropout(dropout),\n",
        "        )\n",
        "\n",
        "    def forward(self, x):\n",
        "        return self.net(x)\n",
        "\n",
        "class Block(nn.Module):\n",
        "    \"\"\" Transformer block: communication followed by computation \"\"\"\n",
        "\n",
        "    def __init__(self, n_embd, n_head):\n",
        "        # n_embd: embedding dimension, n_head: the number of heads we'd like\n",
        "        super().__init__()\n",
        "        head_size = n_embd // n_head\n",
        "        self.sa = MultiHeadAttention(n_head, head_size)\n",
        "        self.ffwd = FeedFoward(n_embd)\n",
        "        self.ln1 = nn.LayerNorm(n_embd)\n",
        "        self.ln2 = nn.LayerNorm(n_embd)\n",
        "\n",
        "    def forward(self, x):\n",
        "        x = x + self.sa(self.ln1(x))\n",
        "        x = x + self.ffwd(self.ln2(x))\n",
        "        return x\n",
        "\n",
        "# super simple bigram model\n",
        "class BigramLanguageModel(nn.Module):\n",
        "\n",
        "    def __init__(self):\n",
        "        super().__init__()\n",
        "        # each token directly reads off the logits for the next token from a lookup table\n",
        "        self.token_embedding_table = nn.Embedding(vocab_size, n_embd)\n",
        "        self.position_embedding_table = nn.Embedding(block_size, n_embd)\n",
        "        self.blocks = nn.Sequential(*[Block(n_embd, n_head=n_head) for _ in range(n_layer)])\n",
        "        self.ln_f = nn.LayerNorm(n_embd) # final layer norm\n",
        "        self.lm_head = nn.Linear(n_embd, vocab_size)\n",
        "\n",
        "    def forward(self, idx, targets=None):\n",
        "        B, T = idx.shape\n",
        "\n",
        "        # idx and targets are both (B,T) tensor of integers\n",
        "        tok_emb = self.token_embedding_table(idx) # (B,T,C)\n",
        "        pos_emb = self.position_embedding_table(torch.arange(T, device=device)) # (T,C)\n",
        "        x = tok_emb + pos_emb # (B,T,C)\n",
        "        x = self.blocks(x) # (B,T,C)\n",
        "        x = self.ln_f(x) # (B,T,C)\n",
        "        logits = self.lm_head(x) # (B,T,vocab_size)\n",
        "\n",
        "        if targets is None:\n",
        "            loss = None\n",
        "        else:\n",
        "            B, T, C = logits.shape\n",
        "            logits = logits.view(B*T, C)\n",
        "            targets = targets.view(B*T)\n",
        "            loss = F.cross_entropy(logits, targets)\n",
        "\n",
        "        return logits, loss\n",
        "\n",
        "    def generate(self, idx, max_new_tokens):\n",
        "        # idx is (B, T) array of indices in the current context\n",
        "        for _ in range(max_new_tokens):\n",
        "            # crop idx to the last block_size tokens\n",
        "            idx_cond = idx[:, -block_size:]\n",
        "            # get the predictions\n",
        "            logits, loss = self(idx_cond)\n",
        "            # focus only on the last time step\n",
        "            logits = logits[:, -1, :] # becomes (B, C)\n",
        "            # apply softmax to get probabilities\n",
        "            probs = F.softmax(logits, dim=-1) # (B, C)\n",
        "            # sample from the distribution\n",
        "            idx_next = torch.multinomial(probs, num_samples=1) # (B, 1)\n",
        "            # append sampled index to the running sequence\n",
        "            idx = torch.cat((idx, idx_next), dim=1) # (B, T+1)\n",
        "        return idx\n",
        "\n",
        "model = BigramLanguageModel()\n",
        "m = model.to(device)\n",
        "# print the number of parameters in the model\n",
        "print(sum(p.numel() for p in m.parameters())/1e6, 'M parameters')\n",
        "\n",
        "# create a PyTorch optimizer\n",
        "optimizer = torch.optim.AdamW(model.parameters(), lr=learning_rate)\n",
        "\n",
        "for iter in range(max_iters):\n",
        "\n",
        "    # every once in a while evaluate the loss on train and val sets\n",
        "    if iter % eval_interval == 0 or iter == max_iters - 1:\n",
        "        losses = estimate_loss()\n",
        "        print(f\"step {iter}: train loss {losses['train']:.4f}, val loss {losses['val']:.4f}\")\n",
        "\n",
        "    # sample a batch of data\n",
        "    xb, yb = get_batch('train')\n",
        "\n",
        "    # evaluate the loss\n",
        "    logits, loss = model(xb, yb)\n",
        "    optimizer.zero_grad(set_to_none=True)\n",
        "    loss.backward()\n",
        "    optimizer.step()\n",
        "\n",
        "# generate from the model\n",
        "context = torch.zeros((1, 1), dtype=torch.long, device=device)\n",
        "print(decode(m.generate(context, max_new_tokens=2000)[0].tolist()))"
      ]
    },
    {
      "cell_type": "markdown",
      "metadata": {
        "id": "PD82oVeFSH8A"
      },
      "source": [
        "## Questions (25 points each)\n",
        "1. How many attention heads are used in this encoder?\n",
        "4\n",
        "2. How many layers are in each feed-forward network? List these layers. 4\n",
        " Each feed-forward network consists of two linear layers followed by ReLU activation and a dropout layer.\n",
        "1 Linear layer: input size = n_embd, output size = 4 * n_embd\n",
        "2 ReLU activation\n",
        "3 Linear layer: input size = 4 * n_embd, output size = n_embd\n",
        "4 Dropout layer\n",
        "3. How many layers are in the transformer block? List these layers.\n",
        "The transformer block consists of two main components:\n",
        "Multi-head self-attention mechanism\n",
        "Feed-forward network\n",
        "Each block includes:\n",
        "Multi-head attention mechanism,\n",
        "Layer normalization,\n",
        "Feed-forward network,\n",
        "Another layer normalization."
      ]
    },
    {
      "cell_type": "markdown",
      "metadata": {
        "id": "PvypAPdmSH8A"
      },
      "source": [
        "# Extra credit (10 points)\n",
        "How does the **learning rate** affect the model (in terms of learning time, and accuracy)? Pick a different value for the learning rate and run the code to show this. A higher learning rate may lead to faster convergence initially, but it might overshoot the optimal solution and cause divergence. Conversely, a lower learning rate may slow down convergence but might yield better accuracy as it allows the model to explore the solution space more thoroughly. I changed the learning time from 1e -3 to 1e -4. the 1e -4 loss average was well above 2.0 the average i would estimate at around 2.4. When i ran 1e - 2 the average train loss i would estimate at around 1.8 and var loss at around 2. From an eyeball test the faster learning rate (1e - 2) was much more readable and comprehensible verues the 1e -4 which looked like a combination of letters.\n",
        "\n",
        "In this case it seams slowing down convergence leads to a less accurate result"
      ]
    }
  ],
  "metadata": {
    "colab": {
      "provenance": []
    },
    "kernelspec": {
      "display_name": "Python 3 (ipykernel)",
      "language": "python",
      "name": "python3"
    },
    "language_info": {
      "codemirror_mode": {
        "name": "ipython",
        "version": 3
      },
      "file_extension": ".py",
      "mimetype": "text/x-python",
      "name": "python",
      "nbconvert_exporter": "python",
      "pygments_lexer": "ipython3",
      "version": "3.11.7"
    }
  },
  "nbformat": 4,
  "nbformat_minor": 0
}